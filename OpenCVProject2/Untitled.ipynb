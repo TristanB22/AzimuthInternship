{
 "cells": [
  {
   "cell_type": "code",
   "execution_count": null,
   "id": "dd0e1f31-e8dc-483f-981a-a904cdb1815b",
   "metadata": {},
   "outputs": [],
   "source": [
    "import cv2 as cv \n",
    "import "
   ]
  }
 ],
 "metadata": {
  "kernelspec": {
   "display_name": "Python 3",
   "language": "python",
   "name": "python3"
  },
  "language_info": {
   "codemirror_mode": {
    "name": "ipython",
    "version": 3
   },
   "file_extension": ".py",
   "mimetype": "text/x-python",
   "name": "python",
   "nbconvert_exporter": "python",
   "pygments_lexer": "ipython3",
   "version": "3.9.5"
  }
 },
 "nbformat": 4,
 "nbformat_minor": 5
}
