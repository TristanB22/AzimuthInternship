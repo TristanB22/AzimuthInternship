{
 "cells": [
  {
   "cell_type": "code",
   "execution_count": 1,
   "metadata": {},
   "outputs": [],
   "source": [
    "import tensorflow as tf\n",
    "from tensorflow import keras\n",
    "import numpy as np\n",
    "import matplotlib.pyplot as plt"
   ]
  },
  {
   "cell_type": "code",
   "execution_count": 2,
   "metadata": {},
   "outputs": [],
   "source": [
    "# get the dataset\n",
    "(X_train_full, y_train_full), (X_test, y_test) = keras.datasets.fashion_mnist.load_data()\n",
    "X_train, X_valid = X_train_full[:-5000], X_train_full[-5000:]\n",
    "y_train, y_valid = y_train_full[:-5000], y_train_full[-5000:]\n",
    "\n",
    "X_mean = X_train.mean(axis=0, keepdims=True)\n",
    "X_std = X_train.std(axis=0, keepdims=True) + 1e-7\n",
    "X_train = (X_train - X_mean) / X_std\n",
    "X_valid = (X_valid - X_mean) / X_std\n",
    "X_test = (X_test - X_mean) / X_std\n",
    "\n",
    "X_train = X_train[..., np.newaxis]\n",
    "X_valid = X_valid[..., np.newaxis]\n",
    "X_test = X_test[..., np.newaxis]"
   ]
  },
  {
   "cell_type": "code",
   "execution_count": 6,
   "metadata": {},
   "outputs": [
    {
     "data": {
      "text/plain": [
       "(55000, 28, 28, 1)"
      ]
     },
     "execution_count": 6,
     "metadata": {},
     "output_type": "execute_result"
    }
   ],
   "source": [
    "X_train.shape  # look at shape of input vectors"
   ]
  },
  {
   "cell_type": "code",
   "execution_count": 4,
   "metadata": {},
   "outputs": [
    {
     "data": {
      "text/plain": [
       "(55000,)"
      ]
     },
     "execution_count": 4,
     "metadata": {},
     "output_type": "execute_result"
    }
   ],
   "source": [
    "y_train.shape # shape of labels"
   ]
  },
  {
   "cell_type": "code",
   "execution_count": 5,
   "metadata": {},
   "outputs": [
    {
     "data": {
      "text/plain": [
       "array([0, 1, 2, 3, 4, 5, 6, 7, 8, 9], dtype=uint8)"
      ]
     },
     "execution_count": 5,
     "metadata": {},
     "output_type": "execute_result"
    }
   ],
   "source": [
    "np.unique(y_train) # number of unique labels"
   ]
  },
  {
   "cell_type": "code",
   "execution_count": 39,
   "metadata": {},
   "outputs": [
    {
     "data": {
      "text/plain": [
       "<matplotlib.image.AxesImage at 0x7eff30292710>"
      ]
     },
     "execution_count": 39,
     "metadata": {},
     "output_type": "execute_result"
    },
    {
     "data": {
      "image/png": "[encoded data removed]",
      "text/plain": [
       "<Figure size 432x288 with 1 Axes>"
      ]
     },
     "metadata": {
      "needs_background": "light"
     },
     "output_type": "display_data"
    }
   ],
   "source": [
    " plt.imshow(X_train[0,:,:,:]) # example image, this is a dataset of different clothing items"
   ]
  },
  {
   "cell_type": "code",
   "execution_count": 11,
   "metadata": {},
   "outputs": [],
   "source": [
    "#Define our convolutional layer that will use\n",
    "from functools import partial\n",
    "\n",
    "DefaultConv2D = partial(keras.layers.Conv2D,\n",
    "                        kernel_size=3, activation='relu', padding=\"SAME\")"
   ]
  },
  {
   "cell_type": "code",
   "execution_count": 12,
   "metadata": {},
   "outputs": [],
   "source": [
    "#Define the model\n",
    "model = keras.models.Sequential([\n",
    "    #first layer is 64 7x7 filters\n",
    "    DefaultConv2D(filters=64, kernel_size=7, input_shape=[28, 28, 1]),\n",
    "    # pool reduce each spatial dimension by factor of 2\n",
    "    keras.layers.MaxPooling2D(pool_size=2),\n",
    "    #Repeat 2 convolution layers followed by one pool twice\n",
    "    #number of filters increases as go further along\n",
    "    DefaultConv2D(filters=128),\n",
    "    DefaultConv2D(filters=128),\n",
    "    keras.layers.MaxPooling2D(pool_size=2),\n",
    "    DefaultConv2D(filters=256),\n",
    "    DefaultConv2D(filters=256),\n",
    "    keras.layers.MaxPooling2D(pool_size=2),\n",
    "    #need to flatten input for dense layer because need 1D array for input\n",
    "    keras.layers.Flatten(),\n",
    "    #Fully connected network, dropout layer to reduce overfit\n",
    "    keras.layers.Dense(units=128, activation='relu'),\n",
    "    keras.layers.Dropout(0.5),\n",
    "    keras.layers.Dense(units=64, activation='relu'),\n",
    "    keras.layers.Dropout(0.5),\n",
    "    keras.layers.Dense(units=10, activation='softmax'),\n",
    "])"
   ]
  },
  {
   "cell_type": "code",
   "execution_count": 13,
   "metadata": {},
   "outputs": [
    {
     "name": "stdout",
     "output_type": "stream",
     "text": [
      "Epoch 1/10\n",
      "1719/1719 [==============================] - 116s 68ms/step - loss: 0.7047 - accuracy: 0.7546 - val_loss: 0.4026 - val_accuracy: 0.8590\n",
      "Epoch 2/10\n",
      "1719/1719 [==============================] - 116s 68ms/step - loss: 0.4177 - accuracy: 0.8590 - val_loss: 0.3498 - val_accuracy: 0.8706\n",
      "Epoch 3/10\n",
      "1719/1719 [==============================] - 115s 67ms/step - loss: 0.3581 - accuracy: 0.8788 - val_loss: 0.3097 - val_accuracy: 0.8876\n",
      "Epoch 4/10\n",
      "1719/1719 [==============================] - 115s 67ms/step - loss: 0.3288 - accuracy: 0.8881 - val_loss: 0.3199 - val_accuracy: 0.8814\n",
      "Epoch 5/10\n",
      "1719/1719 [==============================] - 115s 67ms/step - loss: 0.2990 - accuracy: 0.8969 - val_loss: 0.2882 - val_accuracy: 0.8900\n",
      "Epoch 6/10\n",
      "1719/1719 [==============================] - 116s 67ms/step - loss: 0.2846 - accuracy: 0.9026 - val_loss: 0.3323 - val_accuracy: 0.8892\n",
      "Epoch 7/10\n",
      "1719/1719 [==============================] - 116s 67ms/step - loss: 0.2792 - accuracy: 0.9040 - val_loss: 0.2855 - val_accuracy: 0.8966\n",
      "Epoch 8/10\n",
      "1719/1719 [==============================] - 116s 67ms/step - loss: 0.2640 - accuracy: 0.9084 - val_loss: 0.2876 - val_accuracy: 0.9010\n",
      "Epoch 9/10\n",
      "1719/1719 [==============================] - 121s 71ms/step - loss: 0.2570 - accuracy: 0.9130 - val_loss: 0.3031 - val_accuracy: 0.8964\n",
      "Epoch 10/10\n",
      "1719/1719 [==============================] - 124s 72ms/step - loss: 0.2435 - accuracy: 0.9177 - val_loss: 0.2662 - val_accuracy: 0.9094\n",
      "313/313 [==============================] - 6s 19ms/step - loss: 0.2768 - accuracy: 0.9034\n"
     ]
    }
   ],
   "source": [
    "#compile and train the model\n",
    "model.compile(loss=\"sparse_categorical_crossentropy\", optimizer=\"nadam\", metrics=[\"accuracy\"])\n",
    "history = model.fit(X_train, y_train, epochs=10, validation_data=(X_valid, y_valid))\n",
    "score = model.evaluate(X_test, y_test)\n",
    "X_new = X_test[:10] # pretend we have new images\n",
    "y_pred = model.predict(X_new)\n"
   ]
  },
  {
   "cell_type": "code",
   "execution_count": 17,
   "metadata": {},
   "outputs": [],
   "source": [
    "predictions = model.predict(X_valid) # make predictions"
   ]
  },
  {
   "cell_type": "code",
   "execution_count": 18,
   "metadata": {},
   "outputs": [
    {
     "data": {
      "text/plain": [
       "(5000, 10)"
      ]
     },
     "execution_count": 18,
     "metadata": {},
     "output_type": "execute_result"
    }
   ],
   "source": [
    "predictions.shape # look at shape of output vector"
   ]
  },
  {
   "cell_type": "code",
   "execution_count": 19,
   "metadata": {},
   "outputs": [
    {
     "data": {
      "text/plain": [
       "array([3.4071624e-01, 1.1433119e-06, 3.8951057e-01, 3.0762218e-03,\n",
       "       1.1395277e-02, 9.4603315e-08, 2.5526255e-01, 1.1195634e-08,\n",
       "       3.7573853e-05, 2.1661317e-07], dtype=float32)"
      ]
     },
     "execution_count": 19,
     "metadata": {},
     "output_type": "execute_result"
    }
   ],
   "source": [
    "predictions[0,:] # look at prediction for first image"
   ]
  },
  {
   "cell_type": "code",
   "execution_count": 21,
   "metadata": {},
   "outputs": [
    {
     "data": {
      "text/plain": [
       "2"
      ]
     },
     "execution_count": 21,
     "metadata": {},
     "output_type": "execute_result"
    }
   ],
   "source": [
    "predictions[0,:].argmax() # prediction for first image"
   ]
  },
  {
   "cell_type": "code",
   "execution_count": 23,
   "metadata": {},
   "outputs": [
    {
     "data": {
      "text/plain": [
       "0"
      ]
     },
     "execution_count": 23,
     "metadata": {},
     "output_type": "execute_result"
    }
   ],
   "source": [
    "y_valid[0] # actual label for first image\n",
    "# our model gets this one wrong. Label 0 has 2nd highest probability instead of the highest"
   ]
  },
  {
   "cell_type": "code",
   "execution_count": 24,
   "metadata": {},
   "outputs": [
    {
     "data": {
      "text/plain": [
       "<matplotlib.image.AxesImage at 0x7eff50f121d0>"
      ]
     },
     "execution_count": 24,
     "metadata": {},
     "output_type": "execute_result"
    },
    {
     "data": {
      "image/png": "[encoded data removed]",
      "text/plain": [
       "<Figure size 432x288 with 1 Axes>"
      ]
     },
     "metadata": {
      "needs_background": "light"
     },
     "output_type": "display_data"
    }
   ],
   "source": [
    " plt.imshow(X_valid[0,:,:,:]) # the image the model got wrong, maybe a dress?"
   ]
  },
  {
   "cell_type": "code",
   "execution_count": 30,
   "metadata": {},
   "outputs": [
    {
     "data": {
      "text/plain": [
       "2"
      ]
     },
     "execution_count": 30,
     "metadata": {},
     "output_type": "execute_result"
    }
   ],
   "source": [
    "y_valid[26] # example of label #2"
   ]
  },
  {
   "cell_type": "code",
   "execution_count": 32,
   "metadata": {},
   "outputs": [
    {
     "data": {
      "text/plain": [
       "<matplotlib.image.AxesImage at 0x7eff50d9ba58>"
      ]
     },
     "execution_count": 32,
     "metadata": {},
     "output_type": "execute_result"
    },
    {
     "data": {
      "image/png": "[encoded data removed]",
      "text/plain": [
       "<Figure size 432x288 with 1 Axes>"
      ]
     },
     "metadata": {
      "needs_background": "light"
     },
     "output_type": "display_data"
    }
   ],
   "source": [
    "plt.imshow(X_valid[26,:,:,:]) #look at label that model incorectly predicted above, looks like shirt?\n",
    "# I can understand how the model confused these two"
   ]
  },
  {
   "cell_type": "code",
   "execution_count": 26,
   "metadata": {},
   "outputs": [
    {
     "name": "stdout",
     "output_type": "stream",
     "text": [
      "Model predicts 2 and actual label is 0\n",
      "Model predicts 8 and actual label is 8\n",
      "Model predicts 0 and actual label is 0\n",
      "Model predicts 2 and actual label is 6\n",
      "Model predicts 5 and actual label is 5\n",
      "Model predicts 8 and actual label is 8\n",
      "Model predicts 0 and actual label is 0\n",
      "Model predicts 4 and actual label is 4\n",
      "Model predicts 7 and actual label is 7\n",
      "Model predicts 8 and actual label is 8\n"
     ]
    }
   ],
   "source": [
    "for i in range(10):\n",
    "    print('Model predicts {} and actual label is {}'.format(predictions[i,:].argmax(),y_valid[i])) # prediction for first image"
   ]
  },
  {
   "cell_type": "code",
   "execution_count": 27,
   "metadata": {},
   "outputs": [],
   "source": [
    "# two wrong in first 10"
   ]
  },
  {
   "cell_type": "code",
   "execution_count": null,
   "metadata": {},
   "outputs": [],
   "source": []
  }
 ],
 "metadata": {
  "kernelspec": {
   "display_name": "Python 3",
   "language": "python",
   "name": "python3"
  },
  "language_info": {
   "codemirror_mode": {
    "name": "ipython",
    "version": 3
   },
   "file_extension": ".py",
   "mimetype": "text/x-python",
   "name": "python",
   "nbconvert_exporter": "python",
   "pygments_lexer": "ipython3",
   "version": "3.6.9"
  }
 },
 "nbformat": 4,
 "nbformat_minor": 4
}
