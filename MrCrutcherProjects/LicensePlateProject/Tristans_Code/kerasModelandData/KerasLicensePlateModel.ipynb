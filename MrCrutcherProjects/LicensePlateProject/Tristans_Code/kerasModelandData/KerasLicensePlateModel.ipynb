{
 "cells": [
  {
   "cell_type": "code",
   "execution_count": 1,
   "id": "502be117-9b0e-4c63-878a-eb13efe1c6b3",
   "metadata": {},
   "outputs": [],
   "source": [
    "import tensorflow as tf\n",
    "import numpy as np\n",
    "from tensorflow import keras\n",
    "from functools import partial"
   ]
  },
  {
   "cell_type": "code",
   "execution_count": 2,
   "id": "7edfc365-873c-4983-aa45-4ffd361feb9a",
   "metadata": {},
   "outputs": [
    {
     "name": "stdout",
     "output_type": "stream",
     "text": [
      "The max value is: 3055\n"
     ]
    }
   ],
   "source": [
    "key_file = open(\"/Users/tristanbrigham/GithubProjects/AI_Training_Data/LicensePlateProject/training_data.txt\", \"r\")\n",
    "alphabet = open(\"/Users/tristanbrigham/GithubProjects/AI_Training_Data/LicensePlateProject/alphabet.txt\")\n",
    "image_path = \"/Users/tristanbrigham/GithubProjects/AI_Training_Data/LicensePlateProject/\"\n",
    "\n",
    "key_lines = key_file.readlines()\n",
    "max_val = int(key_lines[0])\n",
    "print(\"The max value is: {}\".format(max_val))"
   ]
  },
  {
   "cell_type": "code",
   "execution_count": 3,
   "id": "9cfe460d-960f-44b7-83e8-a29ded29e72a",
   "metadata": {},
   "outputs": [
    {
     "name": "stdout",
     "output_type": "stream",
     "text": [
      "{'_': 0, 'A': 1, 'B': 2, 'C': 3, 'D': 4, 'E': 5, 'F': 6, 'G': 7, 'H': 8, 'I': 9, 'J': 10, 'K': 11, 'L': 12, 'M': 13, 'N': 14, 'O': 15, 'P': 16, 'Q': 17, 'R': 18, 'S': 19, 'T': 20, 'U': 21, 'V': 22, 'W': 23, 'X': 24, 'Y': 25, 'Z': 26, '0': 27, '1': 28, '2': 29, '3': 30, '4': 31, '5': 32, '6': 33, '7': 34, '8': 35, '9': 36}\n",
      "{0: '_', 1: 'A', 2: 'B', 3: 'C', 4: 'D', 5: 'E', 6: 'F', 7: 'G', 8: 'H', 9: 'I', 10: 'J', 11: 'K', 12: 'L', 13: 'M', 14: 'N', 15: 'O', 16: 'P', 17: 'Q', 18: 'R', 19: 'S', 20: 'T', 21: 'U', 22: 'V', 23: 'W', 24: 'X', 25: 'Y', 26: 'Z', 27: '0', 28: '1', 29: '2', 30: '3', 31: '4', 32: '5', 33: '6', 34: '7', 35: '8', 36: '9'}\n"
     ]
    }
   ],
   "source": [
    "key_dict = {}\n",
    "return_letter_dict = {}\n",
    "for count, letter in enumerate(alphabet.readlines()):\n",
    "    key_dict[letter[0]] = count\n",
    "    return_letter_dict[count] = letter[0]\n",
    "\n",
    "print(key_dict)\n",
    "print(return_letter_dict)"
   ]
  },
  {
   "cell_type": "code",
   "execution_count": 4,
   "id": "0c9dff45-4e5a-43ec-b316-39fd7eacc81a",
   "metadata": {},
   "outputs": [
    {
     "name": "stdout",
     "output_type": "stream",
     "text": [
      "Completed 500\n",
      "Completed 1000\n",
      "Completed 1500\n",
      "Completed 2000\n",
      "Completed 2500\n",
      "Completed 3000\n"
     ]
    }
   ],
   "source": [
    "keys = []\n",
    "letters = []\n",
    "for number in range(1, max_val):\n",
    "    letter_image = np.loadtxt(image_path + str(number) + \".txt\").reshape(80, 60) / 255.0\n",
    "    letters.append(letter_image)\n",
    "    \n",
    "    array = np.zeros(37, dtype=\"float32\")\n",
    "    key_char = key_lines[number][0]\n",
    "    array[key_dict[key_char]] = float(1.0)\n",
    "    keys.append(np.argmax(array))\n",
    "    \n",
    "    if number % 500 == 0:\n",
    "        print(\"Completed {}\".format(number))"
   ]
  },
  {
   "cell_type": "code",
   "execution_count": 5,
   "id": "12bf7393-ff63-45ea-a9e6-0fe15ce0a7b1",
   "metadata": {},
   "outputs": [
    {
     "data": {
      "text/plain": [
       "(80, 60)"
      ]
     },
     "execution_count": 5,
     "metadata": {},
     "output_type": "execute_result"
    }
   ],
   "source": [
    "letters[0].shape"
   ]
  },
  {
   "cell_type": "code",
   "execution_count": 10,
   "id": "40c8b0fe-e39e-40e5-bbf7-38b5c88818e2",
   "metadata": {},
   "outputs": [],
   "source": [
    "model = keras.models.Sequential([\n",
    "    keras.layers.AveragePooling2D(pool_size=2, input_shape=[80, 60, 1]),\n",
    "    keras.layers.Conv2D(filters=32, kernel_size=13, name=\"First_Conv2D\", padding=\"SAME\", activation='relu'),\n",
    "    keras.layers.AveragePooling2D(pool_size=2),\n",
    "    keras.layers.Conv2D(filters=64, kernel_size=9, name=\"Second_Conv2D\", padding=\"SAME\", activation='relu'),\n",
    "    keras.layers.AveragePooling2D(pool_size=2),\n",
    "    keras.layers.Conv2D(filters=64, kernel_size=5, name=\"ThirdConv2D\", padding=\"SAME\", activation='relu'),\n",
    "    keras.layers.AveragePooling2D(pool_size=2),\n",
    "    \n",
    "    keras.layers.Flatten(),\n",
    "    \n",
    "#     keras.layers.Dense(units = 8, activation='relu', name=\"Dense_1\"),\n",
    "#     keras.layers.Dense(units = 2400, activation='relu', name=\"Dense_2\"),\n",
    "#     keras.layers.Dropout(0.5),\n",
    "#     keras.layers.Dense(units = 800, activation='relu', name=\"Dense_3\"),\n",
    "#     keras.layers.Dense(units = 800, activation='relu', name=\"Dense_4\"),\n",
    "#     keras.layers.Dropout(0.5),\n",
    "#     keras.layers.Dense(units = 200, activation='relu', name=\"Dense_5\"),\n",
    "    keras.layers.Dense(units = 100, activation='relu', name=\"Dense_6\"),\n",
    "    keras.layers.Dropout(0.5),\n",
    "    keras.layers.Dense(units = 37, activation='softmax', name=\"Dense_FINAL\")\n",
    "])"
   ]
  },
  {
   "cell_type": "code",
   "execution_count": 11,
   "id": "fbc1bc12-3ad3-422f-8d36-38f5a079be53",
   "metadata": {},
   "outputs": [],
   "source": [
    "model.compile(optimizer=\"nadam\",\n",
    "              loss='sparse_categorical_crossentropy',\n",
    "              metrics=['accuracy'],)"
   ]
  },
  {
   "cell_type": "code",
   "execution_count": 12,
   "id": "7f3c79d4-3741-46aa-a611-e00d9dd55ee7",
   "metadata": {},
   "outputs": [
    {
     "name": "stdout",
     "output_type": "stream",
     "text": [
      "(3054, 80, 60, 1)\n",
      "(3054, 1)\n"
     ]
    }
   ],
   "source": [
    "letters = tf.constant(np.array(letters, dtype=\"float32\").reshape(max_val - 1, 80, 60, 1))\n",
    "keys = tf.constant(np.array(keys, dtype=\"float32\").reshape(max_val - 1, 1))\n",
    "\n",
    "print(letters.shape)\n",
    "print(keys.shape)\n",
    "\n",
    "data = tf.data.Dataset.from_tensor_slices((letters, keys))"
   ]
  },
  {
   "cell_type": "code",
   "execution_count": 13,
   "id": "880f7612-a504-42a0-bc5d-60924ba77d52",
   "metadata": {},
   "outputs": [
    {
     "name": "stdout",
     "output_type": "stream",
     "text": [
      "Model: \"sequential_1\"\n",
      "_________________________________________________________________\n",
      "Layer (type)                 Output Shape              Param #   \n",
      "=================================================================\n",
      "average_pooling2d_4 (Average (None, 40, 30, 1)         0         \n",
      "_________________________________________________________________\n",
      "First_Conv2D (Conv2D)        (None, 40, 30, 32)        5440      \n",
      "_________________________________________________________________\n",
      "average_pooling2d_5 (Average (None, 20, 15, 32)        0         \n",
      "_________________________________________________________________\n",
      "Second_Conv2D (Conv2D)       (None, 20, 15, 64)        165952    \n",
      "_________________________________________________________________\n",
      "average_pooling2d_6 (Average (None, 10, 7, 64)         0         \n",
      "_________________________________________________________________\n",
      "ThirdConv2D (Conv2D)         (None, 10, 7, 64)         102464    \n",
      "_________________________________________________________________\n",
      "average_pooling2d_7 (Average (None, 5, 3, 64)          0         \n",
      "_________________________________________________________________\n",
      "flatten_1 (Flatten)          (None, 960)               0         \n",
      "_________________________________________________________________\n",
      "Dense_6 (Dense)              (None, 100)               96100     \n",
      "_________________________________________________________________\n",
      "dropout_1 (Dropout)          (None, 100)               0         \n",
      "_________________________________________________________________\n",
      "Dense_FINAL (Dense)          (None, 37)                3737      \n",
      "=================================================================\n",
      "Total params: 373,693\n",
      "Trainable params: 373,693\n",
      "Non-trainable params: 0\n",
      "_________________________________________________________________\n",
      "Epoch 1/15\n",
      "24/24 [==============================] - 38s 2s/step - loss: 2.8210 - accuracy: 0.2708\n",
      "Epoch 2/15\n",
      "24/24 [==============================] - 26s 1s/step - loss: 1.3391 - accuracy: 0.6637\n",
      "Epoch 3/15\n",
      "24/24 [==============================] - 31s 1s/step - loss: 0.8216 - accuracy: 0.8016\n",
      "Epoch 4/15\n",
      "24/24 [==============================] - 19s 757ms/step - loss: 0.6297 - accuracy: 0.8589\n",
      "Epoch 5/15\n",
      "24/24 [==============================] - 16s 657ms/step - loss: 0.5189 - accuracy: 0.8815\n",
      "Epoch 6/15\n",
      "24/24 [==============================] - 20s 831ms/step - loss: 0.4347 - accuracy: 0.8933\n",
      "Epoch 7/15\n",
      "24/24 [==============================] - 15s 639ms/step - loss: 0.3939 - accuracy: 0.9044\n",
      "Epoch 8/15\n",
      "24/24 [==============================] - 15s 606ms/step - loss: 0.3305 - accuracy: 0.9221\n",
      "Epoch 9/15\n",
      "24/24 [==============================] - 17s 708ms/step - loss: 0.2910 - accuracy: 0.9348\n",
      "Epoch 10/15\n",
      "24/24 [==============================] - 24s 1s/step - loss: 0.2647 - accuracy: 0.9384\n",
      "Epoch 11/15\n",
      "24/24 [==============================] - 20s 819ms/step - loss: 0.2420 - accuracy: 0.9476\n",
      "Epoch 12/15\n",
      "24/24 [==============================] - 26s 1s/step - loss: 0.2401 - accuracy: 0.9391\n",
      "Epoch 13/15\n",
      "24/24 [==============================] - 33s 1s/step - loss: 0.2373 - accuracy: 0.9483\n",
      "Epoch 14/15\n",
      "24/24 [==============================] - 20s 840ms/step - loss: 0.2087 - accuracy: 0.9525\n",
      "Epoch 15/15\n",
      "24/24 [==============================] - 17s 726ms/step - loss: 0.1874 - accuracy: 0.9571\n"
     ]
    },
    {
     "data": {
      "text/plain": [
       "<tensorflow.python.keras.callbacks.History at 0x7fe8e0231130>"
      ]
     },
     "execution_count": 13,
     "metadata": {},
     "output_type": "execute_result"
    }
   ],
   "source": [
    "model.summary()\n",
    "model.fit(letters, keys, batch_size=128, epochs=15)"
   ]
  },
  {
   "cell_type": "code",
   "execution_count": null,
   "id": "2095644e-1d02-414c-8973-2c24aa235374",
   "metadata": {},
   "outputs": [],
   "source": [
    "number_array = np.zeros((1, 80, 60, 1), dtype=\"float32\")\n",
    "number_array[0] = letters[2]\n",
    "history = model.predict(tf.constant(np.array(number_array, dtype=\"float32\")))\n",
    "print(return_letter_dict[np.argmax(history)])"
   ]
  },
  {
   "cell_type": "code",
   "execution_count": null,
   "id": "f19302b4-447d-45f2-930b-3a4171ceeac9",
   "metadata": {},
   "outputs": [],
   "source": [
    "model._name = \"License_Plate_Model\""
   ]
  },
  {
   "cell_type": "code",
   "execution_count": null,
   "id": "7c7fff34-d726-4757-bbee-0a99daf4a9d3",
   "metadata": {},
   "outputs": [],
   "source": [
    "model.save(\"/Users/tristanbrigham/GithubProjects/AzimuthInternship/MrCrutcherProjects/LicensePlateProject/model.h5\")"
   ]
  },
  {
   "cell_type": "code",
   "execution_count": null,
   "id": "df43e3d2-76c0-43d4-aa0b-e1e187a75a3b",
   "metadata": {},
   "outputs": [],
   "source": [
    "model2 = tf.keras.models.load_model(\"/Users/tristanbrigham/GithubProjects/AzimuthInternship/MrCrutcherProjects/LicensePlateProject/model.h5\")"
   ]
  },
  {
   "cell_type": "code",
   "execution_count": null,
   "id": "c7028900-84ab-435c-b9c6-c1da495da8e3",
   "metadata": {},
   "outputs": [],
   "source": [
    "history = model2.predict(tf.constant(np.array(number_array, dtype=\"float32\")))\n",
    "print(return_letter_dict[np.argmax(history)])"
   ]
  },
  {
   "cell_type": "code",
   "execution_count": null,
   "id": "a5a8d7ae-e084-4540-85d5-3f6990fbab06",
   "metadata": {},
   "outputs": [],
   "source": [
    "model.summary()"
   ]
  },
  {
   "cell_type": "code",
   "execution_count": null,
   "id": "8620e483-3fe5-4188-a7a2-807c736076ad",
   "metadata": {},
   "outputs": [],
   "source": [
    "model2.summary()"
   ]
  },
  {
   "cell_type": "code",
   "execution_count": null,
   "id": "c55ba20d-953c-498c-a4c4-af7c2e07e506",
   "metadata": {},
   "outputs": [],
   "source": []
  }
 ],
 "metadata": {
  "kernelspec": {
   "display_name": "Python 3",
   "language": "python",
   "name": "python3"
  },
  "language_info": {
   "codemirror_mode": {
    "name": "ipython",
    "version": 3
   },
   "file_extension": ".py",
   "mimetype": "text/x-python",
   "name": "python",
   "nbconvert_exporter": "python",
   "pygments_lexer": "ipython3",
   "version": "3.9.5"
  }
 },
 "nbformat": 4,
 "nbformat_minor": 5
}
